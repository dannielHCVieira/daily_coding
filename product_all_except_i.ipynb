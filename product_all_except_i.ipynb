{
 "cells": [
  {
   "cell_type": "markdown",
   "metadata": {},
   "source": [
    "Given an array of integers, return a new array such that each element at index i of the new array \n",
    "is the product of all the numbers in the original array except the one at i.\n",
    "\n",
    "For example, if our input was [1, 2, 3, 4, 5], the expected output would be [120, 60, 40, 30, 24]. \n",
    "If our input was [3, 2, 1], the expected output would be [2, 3, 6].\n",
    "\n",
    "Bonus: Try to not use division."
   ]
  },
  {
   "cell_type": "markdown",
   "metadata": {},
   "source": [
    "With division"
   ]
  },
  {
   "cell_type": "code",
   "execution_count": 11,
   "metadata": {},
   "outputs": [],
   "source": [
    "def product_except(num_list): # O(n)\n",
    "    total = 1\n",
    "    ans = [0] * len(num_list)\n",
    "    for i in num_list: # O(n)\n",
    "        total *= i\n",
    "    for i in range(0, len(num_list)): # O(n)\n",
    "        ans[i] = total // num_list[i]\n",
    "    return ans"
   ]
  },
  {
   "cell_type": "markdown",
   "metadata": {},
   "source": [
    "Without division"
   ]
  },
  {
   "cell_type": "code",
   "execution_count": 59,
   "metadata": {},
   "outputs": [],
   "source": [
    "def product_except_wod(num_list): # O(n)\n",
    "    n = len(num_list)\n",
    "    # calculate backward and forward\n",
    "    forward = [0] * n\n",
    "    backward = [0] * n\n",
    "    answer = [0] * n\n",
    "\n",
    "    # init first forward value and last backward\n",
    "    # from this value we will save the products going forward and backwards\n",
    "    forward[0] = num_list[0]\n",
    "    backward[n-1] = num_list[n-1]\n",
    "\n",
    "    for i in range(1, n):\n",
    "        forward[i] = num_list[i] * forward[i-1]\n",
    "    \n",
    "    for i in range(n-2, -1, -1):\n",
    "        backward[i] = num_list[i] * backward[i+1]\n",
    "\n",
    "    answer[0] = backward[1]\n",
    "    answer[n-1] = forward[n-2]\n",
    "    for i in range(1, n-1):\n",
    "        answer[i] = backward[i+1] * forward[i-1]\n",
    "\n",
    "    return answer\n"
   ]
  },
  {
   "cell_type": "code",
   "execution_count": 64,
   "metadata": {},
   "outputs": [
    {
     "name": "stdout",
     "output_type": "stream",
     "text": [
      "[1, 2, 6, 24, 120]\n",
      "[120, 120, 60, 20, 5]\n",
      "[120, 60, 40, 30, 24]\n"
     ]
    }
   ],
   "source": [
    "list_num = [1,2,3,4,5]\n",
    "ans = product_except_wod(list_num)\n",
    "print(ans)"
   ]
  }
 ],
 "metadata": {
  "kernelspec": {
   "display_name": "Python 3.10.0 64-bit ('3.10.0')",
   "language": "python",
   "name": "python3"
  },
  "language_info": {
   "codemirror_mode": {
    "name": "ipython",
    "version": 3
   },
   "file_extension": ".py",
   "mimetype": "text/x-python",
   "name": "python",
   "nbconvert_exporter": "python",
   "pygments_lexer": "ipython3",
   "version": "3.10.0"
  },
  "orig_nbformat": 4,
  "vscode": {
   "interpreter": {
    "hash": "5c416bbe4a26d813f62e1b9805f0148c7d65d924398be6af99731cae8605b06c"
   }
  }
 },
 "nbformat": 4,
 "nbformat_minor": 2
}
