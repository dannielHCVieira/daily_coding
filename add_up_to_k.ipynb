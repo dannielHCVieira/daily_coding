{
 "cells": [
  {
   "cell_type": "code",
   "execution_count": 32,
   "metadata": {},
   "outputs": [],
   "source": [
    "def add_up_to_k(num_list, k): # O(n)\n",
    "    num_dict = {}\n",
    "    flag = False\n",
    "    for i in range(0, len(num_list)): # O(n)\n",
    "        temp = k - num_list[i]\n",
    "        if(temp in num_dict): # O(1)\n",
    "            flag = True\n",
    "        num_dict[num_list[i]] = i # O(1)\n",
    "    return flag\n",
    "    \n",
    "\n"
   ]
  },
  {
   "cell_type": "code",
   "execution_count": 33,
   "metadata": {},
   "outputs": [
    {
     "name": "stdout",
     "output_type": "stream",
     "text": [
      "{10: 0, 15: 1, 3: 2, 7: 3}\n",
      "True\n"
     ]
    }
   ],
   "source": [
    "list_numbers = [10, 15, 3, 7]\n",
    "k = 17\n",
    "print(add_up_to_k(list_numbers, k))\n"
   ]
  }
 ],
 "metadata": {
  "kernelspec": {
   "display_name": "Python 3.10.0 64-bit ('3.10.0')",
   "language": "python",
   "name": "python3"
  },
  "language_info": {
   "codemirror_mode": {
    "name": "ipython",
    "version": 3
   },
   "file_extension": ".py",
   "mimetype": "text/x-python",
   "name": "python",
   "nbconvert_exporter": "python",
   "pygments_lexer": "ipython3",
   "version": "3.10.0"
  },
  "orig_nbformat": 4,
  "vscode": {
   "interpreter": {
    "hash": "5c416bbe4a26d813f62e1b9805f0148c7d65d924398be6af99731cae8605b06c"
   }
  }
 },
 "nbformat": 4,
 "nbformat_minor": 2
}
